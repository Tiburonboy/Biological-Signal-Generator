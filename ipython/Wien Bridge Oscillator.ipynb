{
 "cells": [
  {
   "cell_type": "markdown",
   "metadata": {
    "collapsed": false
   },
   "source": [
    "# Wien Bridge Oscillator"
   ]
  },
  {
   "cell_type": "markdown",
   "metadata": {
    "collapsed": true
   },
   "source": [
    "A Wien bridge oscillator is a type of electronic oscillator that generates sine waves.  See https://en.wikipedia.org/wiki/Wien_bridge_oscillator.\n",
    "\n",
    "Design calculations for Wien Bridge Oscillator.  See page 21-1 of Handbook of Operational Amplifier Circuit Design, by David F. Stout and edited by Milton Kaufman.  Reference designators match figure 21.1.  \n",
    "\n",
    "The Opamp used in the implementation is a LM324, from the TI datasheet:\n",
    "```\n",
    "Input bias current: 20nA\n",
    "output offset voltage: 1.4 volts due to 20nA input bias current.  1.4 volts in the test condition measured under open loop conditions. \n",
    "unity gain frequency: 1.2 MHz\n",
    "```\n",
    "Notes: \n",
    "* The output offset voltage in the datasheet didn't seem to make sense when looking at the reference design, which used 0.1 volts as the output offset voltage.  \n",
    "* The design equations suggest a value for R6 of 100 times R2. The reference design has this part as a pot.  A value of 4.5 times R2 makes the spice simulation work better.\n"
   ]
  },
  {
   "cell_type": "code",
   "execution_count": 1,
   "metadata": {
    "collapsed": true
   },
   "outputs": [],
   "source": [
    "from math import *"
   ]
  },
  {
   "cell_type": "code",
   "execution_count": 2,
   "metadata": {
    "collapsed": true
   },
   "outputs": [],
   "source": [
    "# opamp parameters\n",
    "Ib1 = 20.0e-9 #input bias current of A1\n",
    "dVo_max = 0.1   #output offset due to bias current of A1\n",
    "fu2 = 1.2e6  #unity gain cross over freuqncy of A1\n",
    "\n",
    "#frequency of oscillation\n",
    "fo = 1.0  #design frequency at mid band"
   ]
  },
  {
   "cell_type": "code",
   "execution_count": 3,
   "metadata": {
    "collapsed": false
   },
   "outputs": [
    {
     "name": "stdout",
     "output_type": "stream",
     "text": [
      "R1_max = 5000000.00\n"
     ]
    }
   ],
   "source": [
    "# step 1: compute a value for R1_max\n",
    "R1_max = dVo_max/Ib1\n",
    "print('R1_max = {:.2f}'.format(R1_max))"
   ]
  },
  {
   "cell_type": "code",
   "execution_count": 4,
   "metadata": {
    "collapsed": false
   },
   "outputs": [
    {
     "name": "stdout",
     "output_type": "stream",
     "text": [
      "R2 = 2236.07\n",
      "R3 = 2459.67\n",
      "R4 = 2236.07\n",
      "R5 = 2236.07\n",
      "R6 = 11068.54\n"
     ]
    }
   ],
   "source": [
    "#step 2: determine other resistor values\n",
    "R2 = sqrt(R1_max)\n",
    "R4 = R2\n",
    "R5 = R2\n",
    "R6 = R2\n",
    "R3 = 1.1*R2\n",
    "R6 = 4.5*R3    # 100.0*R3\n",
    "# display resistor values\n",
    "#print('R1 = {:.2f}'.format(R1))\n",
    "print('R2 = {:.2f}'.format(R2))\n",
    "print('R3 = {:.2f}'.format(R3))\n",
    "print('R4 = {:.2f}'.format(R4))\n",
    "print('R5 = {:.2f}'.format(R5))\n",
    "print('R6 = {:.2f}'.format(R6))"
   ]
  },
  {
   "cell_type": "code",
   "execution_count": 5,
   "metadata": {
    "collapsed": false
   },
   "outputs": [
    {
     "name": "stdout",
     "output_type": "stream",
     "text": [
      "C1 = 7.118e-05\n",
      "C2 = 7.118e-05\n"
     ]
    }
   ],
   "source": [
    "#step 3: determine nominal values for C1 and C2\n",
    "C1 = 1.0/(2.0*pi*fo*R2)\n",
    "C2 = C1\n",
    "#display capacitor values\n",
    "print('C1 = {:.3e}'.format(C1))\n",
    "print('C2 = {:.3e}'.format(C2))"
   ]
  },
  {
   "cell_type": "code",
   "execution_count": 6,
   "metadata": {
    "collapsed": false
   },
   "outputs": [
    {
     "name": "stdout",
     "output_type": "stream",
     "text": [
      "R1_min = 0.20\n"
     ]
    }
   ],
   "source": [
    "#step 4: compute fixed portion of R1\n",
    "R1_min = (R4**2.0/(4.0*pi**2.0*R2*C1*C2*fu2**2.0))**0.3333\n",
    "print('R1_min = {:.2f}'.format(R1_min))"
   ]
  },
  {
   "cell_type": "code",
   "execution_count": 7,
   "metadata": {
    "collapsed": false
   },
   "outputs": [
    {
     "name": "stdout",
     "output_type": "stream",
     "text": [
      "fo_min = 0.021147\n",
      "fo_max = 105.771181\n"
     ]
    }
   ],
   "source": [
    "#step 5: compute frequency limits\n",
    "fo_max = (fu2/(4.0*pi**2.0*R2*R4*C1*C2))**0.333\n",
    "fo_min = (1/(2.0*pi))*(Ib1/(R2*C1*C2*dVo_max))**0.5\n",
    "print('fo_min = {:f}'.format(fo_min))\n",
    "print('fo_max = {:f}'.format(fo_max))"
   ]
  },
  {
   "cell_type": "code",
   "execution_count": 8,
   "metadata": {
    "collapsed": false
   },
   "outputs": [
    {
     "name": "stdout",
     "output_type": "stream",
     "text": [
      "fo_min = 0.021147\n",
      "fo_nom = 1.000000\n",
      "fo_mid = 0.029907\n",
      "fo_max = 106.257253\n"
     ]
    }
   ],
   "source": [
    "#step 6, oscillator frequency is recalculated\n",
    "fo_min = 1/((2*pi)*(R1_max*R2*C1*C2)**0.5)\n",
    "print('fo_min = {:f}'.format(fo_min))\n",
    "R1_nom = R2\n",
    "fo_nom = 1/((2*pi)*(R1_nom*R2*C1*C2)**0.5)\n",
    "print('fo_nom = {:f}'.format(fo_nom))\n",
    "R1_mid = (R1_min+R1_max)/2.0  #set R1 to be the mid point between min and max values of R1\n",
    "fo_mid = 1/((2*pi)*(R1_mid*R2*C1*C2)**0.5)\n",
    "print('fo_mid = {:f}'.format(fo_mid))\n",
    "fo_max = 1/((2*pi)*(R1_min*R2*C1*C2)**0.5)\n",
    "print('fo_max = {:f}'.format(fo_max))"
   ]
  },
  {
   "cell_type": "code",
   "execution_count": null,
   "metadata": {
    "collapsed": true
   },
   "outputs": [],
   "source": []
  }
 ],
 "metadata": {
  "kernelspec": {
   "display_name": "Python 3 (Anaconda)",
   "language": "python",
   "name": "anaconda3"
  },
  "language_info": {
   "codemirror_mode": {
    "name": "ipython",
    "version": 3
   },
   "file_extension": ".py",
   "mimetype": "text/x-python",
   "name": "python",
   "nbconvert_exporter": "python",
   "pygments_lexer": "ipython3",
   "version": "3.5.3"
  }
 },
 "nbformat": 4,
 "nbformat_minor": 0
}
