{
 "cells": [
  {
   "cell_type": "markdown",
   "metadata": {
    "collapsed": false
   },
   "source": [
    "# JFET Controlled Analog Multiplier"
   ]
  },
  {
   "cell_type": "markdown",
   "metadata": {},
   "source": [
    "Design equations for a JFET controlled multiplier as described in *Handbook of Operational Amplifier Circuit Design*, by David F. Stout and Milton Kaufman editor.  See page 19-1 for a description.  JFETs are used as voltage controlled resistors to make linear multiplier.  The reference designators corespond to figure 19.1."
   ]
  },
  {
   "cell_type": "code",
   "execution_count": 1,
   "metadata": {
    "collapsed": true
   },
   "outputs": [],
   "source": [
    "# use math library\n",
    "from math import *"
   ]
  },
  {
   "cell_type": "markdown",
   "metadata": {},
   "source": [
    "Step 1: choose a JFET."
   ]
  },
  {
   "cell_type": "code",
   "execution_count": 13,
   "metadata": {
    "collapsed": true
   },
   "outputs": [],
   "source": [
    "# reference design uses 2N5196 dual JFET, Vp = 3 and Idds = 0.85mA\n",
    "Vp = -3\n",
    "Idss = 0.85e-3"
   ]
  },
  {
   "cell_type": "markdown",
   "metadata": {},
   "source": [
    "Step 2: calculate values for R2, R4, based on Idds.  Calculate values for R1 and R3 assume V1 and V2 source resistance = 50"
   ]
  },
  {
   "cell_type": "code",
   "execution_count": 14,
   "metadata": {
    "collapsed": false
   },
   "outputs": [
    {
     "name": "stdout",
     "output_type": "stream",
     "text": [
      "Rds = 1765\n",
      "R2 = 18\n",
      "R4 = 18\n",
      "R1 = 5000\n",
      "R3 = 5000\n"
     ]
    }
   ],
   "source": [
    "Rds = abs(Vp)/(2*Idss)\n",
    "R2 = Rds/100\n",
    "R4 = R2\n",
    "print('Rds = {:.0f}'.format(Rds))\n",
    "print('R2 = {:.0f}'.format(R2))\n",
    "print('R4 = {:.0f}'.format(R4))\n",
    "\n",
    "#calculate values for R1 and R3\n",
    "# assume V1 and V2 source resistance = 50\n",
    "Rs = 50\n",
    "R1 = 100*Rs\n",
    "R3 = R1\n",
    "print('R1 = {:.0f}'.format(R1))\n",
    "print('R3 = {:.0f}'.format(R3))"
   ]
  },
  {
   "cell_type": "markdown",
   "metadata": {},
   "source": [
    "Step 3: Calculate values for R5 through R8"
   ]
  },
  {
   "cell_type": "code",
   "execution_count": 15,
   "metadata": {
    "collapsed": false
   },
   "outputs": [
    {
     "name": "stdout",
     "output_type": "stream",
     "text": [
      "R5 = 17647\n",
      "R6 = 17647\n",
      "R7 = 17647\n",
      "R8 = 17647\n"
     ]
    }
   ],
   "source": [
    "R5 = 1000*R2\n",
    "R6 = R5\n",
    "R7 = R5\n",
    "R8 = R5\n",
    "print('R5 = {:.0f}'.format(R5))\n",
    "print('R6 = {:.0f}'.format(R6))\n",
    "print('R7 = {:.0f}'.format(R7))\n",
    "print('R8 = {:.0f}'.format(R8))"
   ]
  },
  {
   "cell_type": "markdown",
   "metadata": {},
   "source": [
    "Step 4: Calculate values for R9 and R10"
   ]
  },
  {
   "cell_type": "code",
   "execution_count": 19,
   "metadata": {
    "collapsed": false
   },
   "outputs": [
    {
     "name": "stdout",
     "output_type": "stream",
     "text": [
      "R9 = 501765\n",
      "R10 = 501765\n"
     ]
    }
   ],
   "source": [
    "Vo_max = 5\n",
    "V1 = 5\n",
    "R9 = abs(Vo_max)*(R1+R2)*abs(Vp)/(2*abs(V1)*R2*Idss)\n",
    "R10 = R9\n",
    "print('R9 = {:.0f}'.format(R9))\n",
    "print('R10 = {:.0f}'.format(R10))"
   ]
  },
  {
   "cell_type": "markdown",
   "metadata": {},
   "source": [
    "Step 5: determin allowable range of v2"
   ]
  },
  {
   "cell_type": "code",
   "execution_count": 21,
   "metadata": {
    "collapsed": false
   },
   "outputs": [
    {
     "name": "stdout",
     "output_type": "stream",
     "text": [
      "Rds_min = 1765\n",
      "Rds_max = 17647\n",
      "V2_min = 0.500\n",
      "V2_max = 5\n"
     ]
    }
   ],
   "source": [
    "Rds_min = abs(Vp)/(2*Idss)\n",
    "print('Rds_min = {:.0f}'.format(Rds_min))\n",
    "Rds_max = 10*Rds_min\n",
    "print('Rds_max = {:.0f}'.format(Rds_max))\n",
    "Vr = 5   #reference voltage\n",
    "V2_min = Vr*R4*R9/(Rds_max*(R3+R4))\n",
    "V2_max = Vr*R4*R9/(Rds_min*(R3+R4))\n",
    "print('V2_min = {:.3f}'.format(V2_min))\n",
    "print('V2_max = {:.0f}'.format(V2_max))"
   ]
  },
  {
   "cell_type": "code",
   "execution_count": null,
   "metadata": {
    "collapsed": true
   },
   "outputs": [],
   "source": []
  }
 ],
 "metadata": {
  "kernelspec": {
   "display_name": "Python 3 (Anaconda)",
   "language": "python",
   "name": "anaconda3"
  },
  "language_info": {
   "codemirror_mode": {
    "name": "ipython",
    "version": 3
   },
   "file_extension": ".py",
   "mimetype": "text/x-python",
   "name": "python",
   "nbconvert_exporter": "python",
   "pygments_lexer": "ipython3",
   "version": "3.5.3"
  }
 },
 "nbformat": 4,
 "nbformat_minor": 0
}
