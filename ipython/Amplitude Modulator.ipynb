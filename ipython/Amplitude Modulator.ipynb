{
 "cells": [
  {
   "cell_type": "markdown",
   "metadata": {
    "collapsed": false
   },
   "source": [
    "# Amplitude Modulator"
   ]
  },
  {
   "cell_type": "markdown",
   "metadata": {},
   "source": [
    "18.1 Amplitude Modulator\n",
    "\n",
    "Design steps from *Handbook of Operatinal Amplifier Circuit Design*, by David F. Stout and Milton Kaufman editor.\n",
    "\n",
    "The modulator is based on four CD4016 switches that chop the waveform at the carrier frequency.  The reference designators corespond to figure 18.1.  The carrier frequency is applied to the Vc terminal.  The modulation input is applied to Vm. "
   ]
  },
  {
   "cell_type": "code",
   "execution_count": 1,
   "metadata": {
    "collapsed": true
   },
   "outputs": [],
   "source": [
    "# use math library\n",
    "from math import *"
   ]
  },
  {
   "cell_type": "markdown",
   "metadata": {},
   "source": [
    "Step 1: Choose a comparitor, switches and op amps which will utilize the same supply voltages.  The supply voltage must be at least 2 volts higher the the positive peak expected at Vo.  In stead of using an LM339 to generate the complement of the carrier, a CD4069 will be used in the actual circuit.  A CD4066 will be used in place of a CD4016.  The op amp will be a LM324, which is a general purpose quad op amp. "
   ]
  },
  {
   "cell_type": "markdown",
   "metadata": {},
   "source": [
    "Step 2: Choose R1 to be greater than or equal to the minimum allowed inut resistance at Vm.  In the reference design, Rin = 10k"
   ]
  },
  {
   "cell_type": "code",
   "execution_count": 2,
   "metadata": {
    "collapsed": true
   },
   "outputs": [],
   "source": [
    "R1 = 10e3"
   ]
  },
  {
   "cell_type": "markdown",
   "metadata": {},
   "source": [
    "Step 3: Choose a range of values for Vr which is slightly larger than the expected positive and negative peaks of Vm.  Set Vp and Vn equal to the limits of this range."
   ]
  },
  {
   "cell_type": "code",
   "execution_count": 3,
   "metadata": {
    "collapsed": true
   },
   "outputs": [],
   "source": [
    "Vp = 5\n",
    "Vn = -5"
   ]
  },
  {
   "cell_type": "markdown",
   "metadata": {},
   "source": [
    "Step 4: calculate R3 and R4"
   ]
  },
  {
   "cell_type": "code",
   "execution_count": 4,
   "metadata": {
    "collapsed": false
   },
   "outputs": [
    {
     "name": "stdout",
     "output_type": "stream",
     "text": [
      "R1 = 10000\n",
      "R3 = 10000\n",
      "R4 = 10000\n"
     ]
    }
   ],
   "source": [
    "R3 = R1\n",
    "R4 = R1\n",
    "# display resistor values\n",
    "print('R1 = {:.0f}'.format(R1))\n",
    "print('R3 = {:.0f}'.format(R3))\n",
    "print('R4 = {:.0f}'.format(R4))"
   ]
  },
  {
   "cell_type": "markdown",
   "metadata": {},
   "source": [
    "Step 5: Calculate R2"
   ]
  },
  {
   "cell_type": "code",
   "execution_count": 5,
   "metadata": {
    "collapsed": false
   },
   "outputs": [
    {
     "name": "stdout",
     "output_type": "stream",
     "text": [
      "R2a = 15000\n",
      "R2b = 6000\n"
     ]
    }
   ],
   "source": [
    "Vr = 5  #reference voltage used to adjust modulation depth\n",
    "vm = 2 #modulation input voltage\n",
    "R2a = R1*(Vp-2)/abs(vm)\n",
    "R2b = R3*(Vp-2)/abs(Vr)\n",
    "# display resistor values\n",
    "print('R2a = {:.0f}'.format(R2a))\n",
    "print('R2b = {:.0f}'.format(R2b))"
   ]
  },
  {
   "cell_type": "code",
   "execution_count": 6,
   "metadata": {
    "collapsed": false
   },
   "outputs": [
    {
     "name": "stdout",
     "output_type": "stream",
     "text": [
      "R2 = 5000\n"
     ]
    }
   ],
   "source": [
    "# set R2 to a value lower than R2a or R2b\n",
    "R2 = 5e3\n",
    "print('R2 = {:.0f}'.format(R2))"
   ]
  },
  {
   "cell_type": "markdown",
   "metadata": {},
   "source": [
    "Step 6: Use CMOS switch specification to determine Ron and Roff.  Then caluclate R6 through R11"
   ]
  },
  {
   "cell_type": "code",
   "execution_count": 7,
   "metadata": {
    "collapsed": false
   },
   "outputs": [
    {
     "name": "stdout",
     "output_type": "stream",
     "text": [
      "R6 = 481664\n"
     ]
    }
   ],
   "source": [
    "Ron = 580\n",
    "Roff = 4e8\n",
    "R6 = sqrt(Ron*Roff)\n",
    "R7 = R6\n",
    "R8 = R6\n",
    "R9 = R6\n",
    "R10 = R6\n",
    "R11 = R6\n",
    "print('R6 = {:.0f}'.format(R6))"
   ]
  },
  {
   "cell_type": "markdown",
   "metadata": {},
   "source": [
    "Step 7: Calculate R12"
   ]
  },
  {
   "cell_type": "code",
   "execution_count": 8,
   "metadata": {
    "collapsed": false
   },
   "outputs": [
    {
     "name": "stdout",
     "output_type": "stream",
     "text": [
      "R12 = 1926655\n"
     ]
    }
   ],
   "source": [
    "vo = 3   #circuit out put vaveform\n",
    "R12 = (4*R6*R1*vo)/(3*R2*vm)\n",
    "print('R12 = {:.0f}'.format(R12))"
   ]
  },
  {
   "cell_type": "code",
   "execution_count": 9,
   "metadata": {
    "collapsed": false
   },
   "outputs": [
    {
     "name": "stdout",
     "output_type": "stream",
     "text": [
      "vo = 0.963\n"
     ]
    }
   ],
   "source": [
    "#calculate the DC offset due to A4 bias current\n",
    "Ib4 = 500e-9  #bias current on op amp A4\n",
    "vo = Ib4*R12\n",
    "print('vo = {:.3f}'.format(vo))"
   ]
  },
  {
   "cell_type": "markdown",
   "metadata": {},
   "source": [
    "If the out put offset voltage is too high, adjust R12"
   ]
  },
  {
   "cell_type": "code",
   "execution_count": 10,
   "metadata": {
    "collapsed": false
   },
   "outputs": [
    {
     "name": "stdout",
     "output_type": "stream",
     "text": [
      "R6 = 48166\n",
      "R12 = 192666\n"
     ]
    }
   ],
   "source": [
    "R12 = R12/10.0\n",
    "R6 = R6/10\n",
    "R7 = R6\n",
    "R8 = R6\n",
    "R9 = R6\n",
    "R10 = R6\n",
    "R11 = R6\n",
    "print('R6 = {:.0f}'.format(R6))\n",
    "print('R12 = {:.0f}'.format(R12))"
   ]
  },
  {
   "cell_type": "code",
   "execution_count": 11,
   "metadata": {
    "collapsed": false
   },
   "outputs": [
    {
     "name": "stdout",
     "output_type": "stream",
     "text": [
      "R6 = 48000\n",
      "R12 = 193000\n"
     ]
    }
   ],
   "source": [
    "#use standard resistor values\n",
    "R12 = 193e3\n",
    "R6 = 48e3\n",
    "R7 = R6\n",
    "R8 = R6\n",
    "R9 = R6\n",
    "R10 = R6\n",
    "R11 = R6\n",
    "print('R6 = {:.0f}'.format(R6))\n",
    "print('R12 = {:.0f}'.format(R12))"
   ]
  },
  {
   "cell_type": "markdown",
   "metadata": {},
   "source": [
    "Step 8: recalculate vo with new resistor values"
   ]
  },
  {
   "cell_type": "code",
   "execution_count": 12,
   "metadata": {
    "collapsed": false
   },
   "outputs": [
    {
     "name": "stdout",
     "output_type": "stream",
     "text": [
      "vop = 3.016\n",
      "von = -3.016\n"
     ]
    }
   ],
   "source": [
    "von = (-R2*R9*R12)/(R10*(R6+R8))*(vm/R1+vm/(2.0*R3))\n",
    "vop = (R2*R12)/(R7+R11)*(vm/R1+vm/(2.0*R3))\n",
    "print('vop = {:.3f}'.format(vop))\n",
    "print('von = {:.3f}'.format(von))"
   ]
  },
  {
   "cell_type": "markdown",
   "metadata": {},
   "source": [
    "Step 9: peak to peak output voltage is calculated using switch resistance"
   ]
  },
  {
   "cell_type": "code",
   "execution_count": 13,
   "metadata": {
    "collapsed": false
   },
   "outputs": [
    {
     "name": "stdout",
     "output_type": "stream",
     "text": [
      "voe = 2.997\n"
     ]
    }
   ],
   "source": [
    "voe = (R2*R12*Roff)/((R6+Ron)*(R6+Roff)+R6*Roff)*((vm/R1)+(vm/(2*R3)))\n",
    "print('voe = {:.3f}'.format(voe))"
   ]
  },
  {
   "cell_type": "code",
   "execution_count": null,
   "metadata": {
    "collapsed": true
   },
   "outputs": [],
   "source": []
  }
 ],
 "metadata": {
  "kernelspec": {
   "display_name": "Python 3 (Anaconda)",
   "language": "python",
   "name": "anaconda3"
  },
  "language_info": {
   "codemirror_mode": {
    "name": "ipython",
    "version": 3
   },
   "file_extension": ".py",
   "mimetype": "text/x-python",
   "name": "python",
   "nbconvert_exporter": "python",
   "pygments_lexer": "ipython3",
   "version": "3.5.3"
  }
 },
 "nbformat": 4,
 "nbformat_minor": 0
}
